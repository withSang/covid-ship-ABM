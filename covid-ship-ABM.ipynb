{
 "cells": [
  {
   "cell_type": "code",
   "execution_count": 1,
   "metadata": {
    "colab": {},
    "colab_type": "code",
    "id": "pd3nc7Ju12dv"
   },
   "outputs": [],
   "source": [
    "import numpy as np\n",
    "import random\n",
    "import pandas as pd\n",
    "from matplotlib import pyplot as plt\n",
    "from functools import reduce\n",
    "%matplotlib inline"
   ]
  },
  {
   "cell_type": "code",
   "execution_count": 2,
   "metadata": {
    "colab": {},
    "colab_type": "code",
    "id": "VSFfScrk12dy"
   },
   "outputs": [],
   "source": [
    "cruise_excel_path = 'cruise.xlsx'\n",
    "probability_excel_path = 'probability.xlsx'\n",
    "\n",
    "\n",
    "number_of_passengers = 100 #승객 수(<= 호실 수)\n",
    "dt = 2 #시간 간격(초)\n",
    "walking_speed = 3/3.6 #3km/h\n",
    "E, Is, Ia, R = 10, 0, 0, 0 #상태는 S(감염대상군), E(접촉군), Is(감염군-유증상), Ia(감염군-무증상), R(회복군)로 나뉨\n",
    "S = number_of_passengers - sum([E,Is,Ia,R])\n",
    "incubation_period, infection_period = round(5.1*86400), round(20.1*86400) #잠복기 5.1일, 치료기간 20.1일\n",
    "transmissibility = {'Is': 0.063, 'Ia': 0.041}\n",
    "p_asymptomatic = 0.3 #무증상자 비율\n",
    "radius = 2 #밀접 접촉에 의한 감염이 일어날 수 있는 반경 2m"
   ]
  },
  {
   "cell_type": "code",
   "execution_count": null,
   "metadata": {},
   "outputs": [],
   "source": []
  },
  {
   "cell_type": "code",
   "execution_count": null,
   "metadata": {},
   "outputs": [],
   "source": []
  },
  {
   "cell_type": "code",
   "execution_count": null,
   "metadata": {},
   "outputs": [],
   "source": []
  },
  {
   "cell_type": "markdown",
   "metadata": {
    "colab_type": "text",
    "id": "p36HfZMs12d0"
   },
   "source": [
    "### 선실 dataframe 만들기"
   ]
  },
  {
   "cell_type": "code",
   "execution_count": 3,
   "metadata": {
    "colab": {},
    "colab_type": "code",
    "id": "Lnq-v2-N12d1"
   },
   "outputs": [],
   "source": [
    "top_floor = 5 #크루즈가 몇 층짜리인지\n",
    "xls = pd.ExcelFile(cruise_excel_path) #엑셀 파일을 불러옴\n",
    "cruise = pd.concat([pd.read_excel(xls, sheet_name=i) for i in range(top_floor)], axis=0) #각 시트에 있는 내용을 다 합침\n",
    "cruise.reset_index(drop=True, inplace=True)\n",
    "cruise.decayTime = np.inf #감염자가 방을 떠난 후 경과한 시간"
   ]
  },
  {
   "cell_type": "code",
   "execution_count": 5,
   "metadata": {},
   "outputs": [
    {
     "data": {
      "text/html": [
       "<div>\n",
       "<style scoped>\n",
       "    .dataframe tbody tr th:only-of-type {\n",
       "        vertical-align: middle;\n",
       "    }\n",
       "\n",
       "    .dataframe tbody tr th {\n",
       "        vertical-align: top;\n",
       "    }\n",
       "\n",
       "    .dataframe thead th {\n",
       "        text-align: right;\n",
       "    }\n",
       "</style>\n",
       "<table border=\"1\" class=\"dataframe\">\n",
       "  <thead>\n",
       "    <tr style=\"text-align: right;\">\n",
       "      <th></th>\n",
       "      <th>category</th>\n",
       "      <th>floor</th>\n",
       "      <th>ID</th>\n",
       "      <th>x</th>\n",
       "      <th>y</th>\n",
       "      <th>desc</th>\n",
       "      <th>mask</th>\n",
       "    </tr>\n",
       "  </thead>\n",
       "  <tbody>\n",
       "    <tr>\n",
       "      <th>0</th>\n",
       "      <td>승객X</td>\n",
       "      <td>1</td>\n",
       "      <td>101</td>\n",
       "      <td>180.00</td>\n",
       "      <td>15</td>\n",
       "      <td>조종실</td>\n",
       "      <td>1</td>\n",
       "    </tr>\n",
       "    <tr>\n",
       "      <th>1</th>\n",
       "      <td>대형편의</td>\n",
       "      <td>1</td>\n",
       "      <td>102</td>\n",
       "      <td>60.00</td>\n",
       "      <td>15</td>\n",
       "      <td>기념품</td>\n",
       "      <td>1</td>\n",
       "    </tr>\n",
       "    <tr>\n",
       "      <th>2</th>\n",
       "      <td>대형편의</td>\n",
       "      <td>1</td>\n",
       "      <td>103</td>\n",
       "      <td>80.00</td>\n",
       "      <td>13</td>\n",
       "      <td>서비스</td>\n",
       "      <td>1</td>\n",
       "    </tr>\n",
       "    <tr>\n",
       "      <th>3</th>\n",
       "      <td>대형편의</td>\n",
       "      <td>1</td>\n",
       "      <td>104</td>\n",
       "      <td>80.00</td>\n",
       "      <td>17</td>\n",
       "      <td>게임센터</td>\n",
       "      <td>1</td>\n",
       "    </tr>\n",
       "    <tr>\n",
       "      <th>4</th>\n",
       "      <td>소형편의</td>\n",
       "      <td>1</td>\n",
       "      <td>105</td>\n",
       "      <td>101.25</td>\n",
       "      <td>14</td>\n",
       "      <td>화장실</td>\n",
       "      <td>1</td>\n",
       "    </tr>\n",
       "    <tr>\n",
       "      <th>5</th>\n",
       "      <td>소형편의</td>\n",
       "      <td>1</td>\n",
       "      <td>106</td>\n",
       "      <td>101.25</td>\n",
       "      <td>16</td>\n",
       "      <td>화장실</td>\n",
       "      <td>1</td>\n",
       "    </tr>\n",
       "    <tr>\n",
       "      <th>6</th>\n",
       "      <td>소형편의</td>\n",
       "      <td>1</td>\n",
       "      <td>107</td>\n",
       "      <td>110.75</td>\n",
       "      <td>13</td>\n",
       "      <td>노래방</td>\n",
       "      <td>1</td>\n",
       "    </tr>\n",
       "    <tr>\n",
       "      <th>7</th>\n",
       "      <td>소형편의</td>\n",
       "      <td>1</td>\n",
       "      <td>108</td>\n",
       "      <td>110.75</td>\n",
       "      <td>17</td>\n",
       "      <td>ICT실</td>\n",
       "      <td>1</td>\n",
       "    </tr>\n",
       "    <tr>\n",
       "      <th>8</th>\n",
       "      <td>대형편의</td>\n",
       "      <td>1</td>\n",
       "      <td>109</td>\n",
       "      <td>125.00</td>\n",
       "      <td>13</td>\n",
       "      <td>고객센터</td>\n",
       "      <td>1</td>\n",
       "    </tr>\n",
       "    <tr>\n",
       "      <th>9</th>\n",
       "      <td>대형편의</td>\n",
       "      <td>1</td>\n",
       "      <td>110</td>\n",
       "      <td>125.00</td>\n",
       "      <td>17</td>\n",
       "      <td>응급실</td>\n",
       "      <td>1</td>\n",
       "    </tr>\n",
       "    <tr>\n",
       "      <th>10</th>\n",
       "      <td>대형편의</td>\n",
       "      <td>1</td>\n",
       "      <td>111</td>\n",
       "      <td>135.00</td>\n",
       "      <td>14</td>\n",
       "      <td>볼링장</td>\n",
       "      <td>1</td>\n",
       "    </tr>\n",
       "    <tr>\n",
       "      <th>11</th>\n",
       "      <td>대형편의</td>\n",
       "      <td>1</td>\n",
       "      <td>112</td>\n",
       "      <td>135.00</td>\n",
       "      <td>16</td>\n",
       "      <td>당구장</td>\n",
       "      <td>1</td>\n",
       "    </tr>\n",
       "    <tr>\n",
       "      <th>12</th>\n",
       "      <td>승객X</td>\n",
       "      <td>1</td>\n",
       "      <td>113</td>\n",
       "      <td>150.00</td>\n",
       "      <td>15</td>\n",
       "      <td>탕비실</td>\n",
       "      <td>1</td>\n",
       "    </tr>\n",
       "    <tr>\n",
       "      <th>13</th>\n",
       "      <td>승객X</td>\n",
       "      <td>1</td>\n",
       "      <td>114</td>\n",
       "      <td>170.00</td>\n",
       "      <td>14</td>\n",
       "      <td>승무원휴게실</td>\n",
       "      <td>1</td>\n",
       "    </tr>\n",
       "    <tr>\n",
       "      <th>14</th>\n",
       "      <td>승객X</td>\n",
       "      <td>1</td>\n",
       "      <td>115</td>\n",
       "      <td>170.00</td>\n",
       "      <td>16</td>\n",
       "      <td>승무원휴게실</td>\n",
       "      <td>1</td>\n",
       "    </tr>\n",
       "    <tr>\n",
       "      <th>15</th>\n",
       "      <td>통로</td>\n",
       "      <td>1</td>\n",
       "      <td>116</td>\n",
       "      <td>102.50</td>\n",
       "      <td>15</td>\n",
       "      <td>계단</td>\n",
       "      <td>1</td>\n",
       "    </tr>\n",
       "  </tbody>\n",
       "</table>\n",
       "</div>"
      ],
      "text/plain": [
       "   category  floor   ID       x   y    desc  mask\n",
       "0       승객X      1  101  180.00  15     조종실     1\n",
       "1      대형편의      1  102   60.00  15     기념품     1\n",
       "2      대형편의      1  103   80.00  13     서비스     1\n",
       "3      대형편의      1  104   80.00  17    게임센터     1\n",
       "4      소형편의      1  105  101.25  14     화장실     1\n",
       "5      소형편의      1  106  101.25  16     화장실     1\n",
       "6      소형편의      1  107  110.75  13     노래방     1\n",
       "7      소형편의      1  108  110.75  17    ICT실     1\n",
       "8      대형편의      1  109  125.00  13    고객센터     1\n",
       "9      대형편의      1  110  125.00  17     응급실     1\n",
       "10     대형편의      1  111  135.00  14     볼링장     1\n",
       "11     대형편의      1  112  135.00  16     당구장     1\n",
       "12      승객X      1  113  150.00  15     탕비실     1\n",
       "13      승객X      1  114  170.00  14  승무원휴게실     1\n",
       "14      승객X      1  115  170.00  16  승무원휴게실     1\n",
       "15       통로      1  116  102.50  15      계단     1"
      ]
     },
     "execution_count": 5,
     "metadata": {},
     "output_type": "execute_result"
    }
   ],
   "source": [
    "cruise.loc[cruise.floor.values==1]"
   ]
  },
  {
   "cell_type": "code",
   "execution_count": null,
   "metadata": {},
   "outputs": [],
   "source": []
  },
  {
   "cell_type": "code",
   "execution_count": null,
   "metadata": {},
   "outputs": [],
   "source": []
  },
  {
   "cell_type": "code",
   "execution_count": null,
   "metadata": {},
   "outputs": [],
   "source": []
  },
  {
   "cell_type": "markdown",
   "metadata": {
    "colab_type": "text",
    "id": "fpE39wR112d_"
   },
   "source": [
    "### 승객 dataframe 만들기"
   ]
  },
  {
   "cell_type": "code",
   "execution_count": 4,
   "metadata": {
    "colab": {
     "base_uri": "https://localhost:8080/",
     "height": 34
    },
    "colab_type": "code",
    "id": "JaKtEGjw12d_",
    "outputId": "e01e691d-d9aa-490e-c1b1-52ba672bacdf"
   },
   "outputs": [
    {
     "name": "stdout",
     "output_type": "stream",
     "text": [
      "탑승객의 수: 100명, 탑승객의 평균 연령: 70.1세\n"
     ]
    }
   ],
   "source": [
    "ID = np.arange(1, number_of_passengers+1) #승객 고유번호\n",
    "age = np.round(np.random.randn(number_of_passengers)*((72-63)/1.35)+69) #승객 나이는 정규분포를 따른다고 가정(IQR(사분범위)(=72-63), 중앙값(=69)이 주어짐, 정규분포에서 중앙값=평균이고, 표준편차=IQR/1.35)\n",
    "print(f\"탑승객의 수: {number_of_passengers}명, 탑승객의 평균 연령: {np.mean(age)}세\")"
   ]
  },
  {
   "cell_type": "code",
   "execution_count": 5,
   "metadata": {
    "colab": {},
    "colab_type": "code",
    "id": "guB1oQX412eG"
   },
   "outputs": [],
   "source": [
    "sample_rooms = cruise.loc[cruise.category.values=='객실'].sample(n=number_of_passengers) #객실 중에서 승객 수만큼을 무작위로 추출함\n",
    "home = sample_rooms.ID\n",
    "floor, x, y = sample_rooms.floor, sample_rooms.x, sample_rooms.y #승객의 현재 층수, x, y좌표는 자기 방\n",
    "behavior = ['객실'] * number_of_passengers #현재 하고 있는 행동(밤 12시에는 자신의 호실에 있어야 한다)\n",
    "is_moving = [False] * number_of_passengers #현재 이동중인지 여부(True or False)\n",
    "time_left = [0] * number_of_passengers #현재 하고 있는 행동이 끝나기까지 남은 시간\n",
    "state = np.array(['S']*S + ['E']*E + ['Is']*Is + ['Ia']*Ia + ['R']*R) #상태는 S(감염대상군), E(접촉군), Is(감염군-유증상), Ia(감염군-무증상), R(회복군)로 나뉨\n",
    "latency = np.array([np.inf]*S + [incubation_period]*E + [infection_period]*(Is+Ia) + [np.inf]*R) #E->I, I->R로 넘어가는 데 필요한 시간(기본적으로 S이면 초기값 무한대(np.inf), E이면 초기값은 잠복기)\n",
    "#latency는 np.inf가 float로 취급되어서 모든 행의 값이 float로 취급되는데, 그래서 부동소수점 연산을 할 때 생기는 오차에 유의해야 함\n",
    "indices = np.arange(number_of_passengers)\n",
    "np.random.shuffle(indices)\n",
    "state = state[indices]\n",
    "latency = latency[indices]"
   ]
  },
  {
   "cell_type": "code",
   "execution_count": 6,
   "metadata": {
    "colab": {
     "base_uri": "https://localhost:8080/",
     "height": 402
    },
    "colab_type": "code",
    "id": "NJZmJbkP12eH",
    "outputId": "d8e16ec5-18f1-4799-b82d-2adf96a8c276"
   },
   "outputs": [
    {
     "data": {
      "text/html": [
       "<div>\n",
       "<style scoped>\n",
       "    .dataframe tbody tr th:only-of-type {\n",
       "        vertical-align: middle;\n",
       "    }\n",
       "\n",
       "    .dataframe tbody tr th {\n",
       "        vertical-align: top;\n",
       "    }\n",
       "\n",
       "    .dataframe thead th {\n",
       "        text-align: right;\n",
       "    }\n",
       "</style>\n",
       "<table border=\"1\" class=\"dataframe\">\n",
       "  <thead>\n",
       "    <tr style=\"text-align: right;\">\n",
       "      <th></th>\n",
       "      <th>ID</th>\n",
       "      <th>age</th>\n",
       "      <th>home</th>\n",
       "      <th>floor</th>\n",
       "      <th>x</th>\n",
       "      <th>y</th>\n",
       "      <th>behavior</th>\n",
       "      <th>is_moving</th>\n",
       "      <th>time_left</th>\n",
       "      <th>state</th>\n",
       "      <th>latency</th>\n",
       "    </tr>\n",
       "  </thead>\n",
       "  <tbody>\n",
       "    <tr>\n",
       "      <th>0</th>\n",
       "      <td>1</td>\n",
       "      <td>84.0</td>\n",
       "      <td>234</td>\n",
       "      <td>2</td>\n",
       "      <td>167.5</td>\n",
       "      <td>14</td>\n",
       "      <td>객실</td>\n",
       "      <td>False</td>\n",
       "      <td>0</td>\n",
       "      <td>S</td>\n",
       "      <td>inf</td>\n",
       "    </tr>\n",
       "    <tr>\n",
       "      <th>1</th>\n",
       "      <td>2</td>\n",
       "      <td>70.0</td>\n",
       "      <td>248</td>\n",
       "      <td>2</td>\n",
       "      <td>42.5</td>\n",
       "      <td>16</td>\n",
       "      <td>객실</td>\n",
       "      <td>False</td>\n",
       "      <td>0</td>\n",
       "      <td>E</td>\n",
       "      <td>440640.0</td>\n",
       "    </tr>\n",
       "    <tr>\n",
       "      <th>2</th>\n",
       "      <td>3</td>\n",
       "      <td>77.0</td>\n",
       "      <td>277</td>\n",
       "      <td>2</td>\n",
       "      <td>187.5</td>\n",
       "      <td>16</td>\n",
       "      <td>객실</td>\n",
       "      <td>False</td>\n",
       "      <td>0</td>\n",
       "      <td>S</td>\n",
       "      <td>inf</td>\n",
       "    </tr>\n",
       "    <tr>\n",
       "      <th>3</th>\n",
       "      <td>4</td>\n",
       "      <td>75.0</td>\n",
       "      <td>405</td>\n",
       "      <td>4</td>\n",
       "      <td>22.5</td>\n",
       "      <td>14</td>\n",
       "      <td>객실</td>\n",
       "      <td>False</td>\n",
       "      <td>0</td>\n",
       "      <td>S</td>\n",
       "      <td>inf</td>\n",
       "    </tr>\n",
       "    <tr>\n",
       "      <th>4</th>\n",
       "      <td>5</td>\n",
       "      <td>66.0</td>\n",
       "      <td>441</td>\n",
       "      <td>4</td>\n",
       "      <td>17.5</td>\n",
       "      <td>16</td>\n",
       "      <td>객실</td>\n",
       "      <td>False</td>\n",
       "      <td>0</td>\n",
       "      <td>S</td>\n",
       "      <td>inf</td>\n",
       "    </tr>\n",
       "    <tr>\n",
       "      <th>...</th>\n",
       "      <td>...</td>\n",
       "      <td>...</td>\n",
       "      <td>...</td>\n",
       "      <td>...</td>\n",
       "      <td>...</td>\n",
       "      <td>...</td>\n",
       "      <td>...</td>\n",
       "      <td>...</td>\n",
       "      <td>...</td>\n",
       "      <td>...</td>\n",
       "      <td>...</td>\n",
       "    </tr>\n",
       "    <tr>\n",
       "      <th>95</th>\n",
       "      <td>96</td>\n",
       "      <td>72.0</td>\n",
       "      <td>211</td>\n",
       "      <td>2</td>\n",
       "      <td>52.5</td>\n",
       "      <td>14</td>\n",
       "      <td>객실</td>\n",
       "      <td>False</td>\n",
       "      <td>0</td>\n",
       "      <td>S</td>\n",
       "      <td>inf</td>\n",
       "    </tr>\n",
       "    <tr>\n",
       "      <th>96</th>\n",
       "      <td>97</td>\n",
       "      <td>86.0</td>\n",
       "      <td>408</td>\n",
       "      <td>4</td>\n",
       "      <td>37.5</td>\n",
       "      <td>14</td>\n",
       "      <td>객실</td>\n",
       "      <td>False</td>\n",
       "      <td>0</td>\n",
       "      <td>S</td>\n",
       "      <td>inf</td>\n",
       "    </tr>\n",
       "    <tr>\n",
       "      <th>97</th>\n",
       "      <td>98</td>\n",
       "      <td>78.0</td>\n",
       "      <td>446</td>\n",
       "      <td>4</td>\n",
       "      <td>42.5</td>\n",
       "      <td>16</td>\n",
       "      <td>객실</td>\n",
       "      <td>False</td>\n",
       "      <td>0</td>\n",
       "      <td>S</td>\n",
       "      <td>inf</td>\n",
       "    </tr>\n",
       "    <tr>\n",
       "      <th>98</th>\n",
       "      <td>99</td>\n",
       "      <td>68.0</td>\n",
       "      <td>265</td>\n",
       "      <td>2</td>\n",
       "      <td>127.5</td>\n",
       "      <td>16</td>\n",
       "      <td>객실</td>\n",
       "      <td>False</td>\n",
       "      <td>0</td>\n",
       "      <td>S</td>\n",
       "      <td>inf</td>\n",
       "    </tr>\n",
       "    <tr>\n",
       "      <th>99</th>\n",
       "      <td>100</td>\n",
       "      <td>79.0</td>\n",
       "      <td>232</td>\n",
       "      <td>2</td>\n",
       "      <td>157.5</td>\n",
       "      <td>14</td>\n",
       "      <td>객실</td>\n",
       "      <td>False</td>\n",
       "      <td>0</td>\n",
       "      <td>S</td>\n",
       "      <td>inf</td>\n",
       "    </tr>\n",
       "  </tbody>\n",
       "</table>\n",
       "<p>100 rows × 11 columns</p>\n",
       "</div>"
      ],
      "text/plain": [
       "     ID   age  home  floor      x   y behavior  is_moving  time_left state  \\\n",
       "0     1  84.0   234      2  167.5  14       객실      False          0     S   \n",
       "1     2  70.0   248      2   42.5  16       객실      False          0     E   \n",
       "2     3  77.0   277      2  187.5  16       객실      False          0     S   \n",
       "3     4  75.0   405      4   22.5  14       객실      False          0     S   \n",
       "4     5  66.0   441      4   17.5  16       객실      False          0     S   \n",
       "..  ...   ...   ...    ...    ...  ..      ...        ...        ...   ...   \n",
       "95   96  72.0   211      2   52.5  14       객실      False          0     S   \n",
       "96   97  86.0   408      4   37.5  14       객실      False          0     S   \n",
       "97   98  78.0   446      4   42.5  16       객실      False          0     S   \n",
       "98   99  68.0   265      2  127.5  16       객실      False          0     S   \n",
       "99  100  79.0   232      2  157.5  14       객실      False          0     S   \n",
       "\n",
       "     latency  \n",
       "0        inf  \n",
       "1   440640.0  \n",
       "2        inf  \n",
       "3        inf  \n",
       "4        inf  \n",
       "..       ...  \n",
       "95       inf  \n",
       "96       inf  \n",
       "97       inf  \n",
       "98       inf  \n",
       "99       inf  \n",
       "\n",
       "[100 rows x 11 columns]"
      ]
     },
     "execution_count": 6,
     "metadata": {},
     "output_type": "execute_result"
    }
   ],
   "source": [
    "passengers = pd.DataFrame({'ID':ID,\n",
    "                           'age':age,\n",
    "                           'home':home,\n",
    "                           'floor':floor,\n",
    "                           'x':x,\n",
    "                           'y':y,\n",
    "                           'behavior':behavior,\n",
    "                           'is_moving':is_moving,\n",
    "                           'time_left':time_left,\n",
    "                           'state':state,\n",
    "                           'latency':latency})\n",
    "passengers.reset_index(drop=True, inplace=True)\n",
    "passengers #승객은 아래와 같음"
   ]
  },
  {
   "cell_type": "markdown",
   "metadata": {
    "colab_type": "text",
    "id": "WhsW84Wf12eO"
   },
   "source": [
    "### 최단경로 찾기"
   ]
  },
  {
   "cell_type": "code",
   "execution_count": 7,
   "metadata": {
    "colab": {},
    "colab_type": "code",
    "id": "cS35NyTO12eO"
   },
   "outputs": [],
   "source": [
    "def get_linear_path(startRoom, endRoom): #같은 층에 있을 때 이동경로 찾아줌. 단 경로에 끝점은 포함되나 시작점은 포함되지 않음.\n",
    "    path = []\n",
    "    floor = startRoom.floor\n",
    "    x = startRoom.x\n",
    "    y = cruise.loc[(cruise.floor.values==startRoom.floor) & (cruise.desc.values=='계단')].y.squeeze()\n",
    "    if startRoom.x < endRoom.x:\n",
    "        while True:\n",
    "            x += walking_speed * dt\n",
    "            if x < endRoom.x:\n",
    "                path.append((floor, x, y-0.5)) #우측통행 고려\n",
    "                continue\n",
    "            break\n",
    "    elif startRoom.x > endRoom.x:\n",
    "        while True:\n",
    "            x -= walking_speed * dt\n",
    "            if x > endRoom.x:\n",
    "                path.append((floor, x, y+0.5))\n",
    "                continue\n",
    "            break        \n",
    "    path.append((floor, endRoom.x,endRoom.y))\n",
    "    return path"
   ]
  },
  {
   "cell_type": "code",
   "execution_count": 8,
   "metadata": {
    "colab": {},
    "colab_type": "code",
    "id": "tK9JFBTs12eV"
   },
   "outputs": [],
   "source": [
    "def navigate(startPoint, endPoint): #입력값은 두 방의 ID, 두 방 사이를 이동하는 경로를 리스트로 리턴해줌.\n",
    "    startRoom = cruise.loc[cruise.ID.values==startPoint].squeeze()\n",
    "    endRoom = cruise.loc[cruise.ID.values==endPoint].squeeze()\n",
    "    path = [(startRoom.floor, startRoom.x, startRoom.y)]\n",
    "    \n",
    "    if startRoom.floor == endRoom.floor:\n",
    "        path += get_linear_path(startRoom, endRoom)    \n",
    "    else:\n",
    "        floor = startRoom.floor\n",
    "        path += get_linear_path(startRoom, cruise.loc[(cruise.floor.values==floor) & (cruise.desc.values=='계단')].squeeze())\n",
    "        if startRoom.floor < endRoom.floor:\n",
    "            while floor < endRoom.floor:\n",
    "                floor += 1\n",
    "                x, y = cruise.loc[(cruise.floor.values==floor) & (cruise.desc.values=='계단')].squeeze()[['x','y']]\n",
    "                path += [(floor, x, y)]\n",
    "        else:\n",
    "            while floor > endRoom.floor:\n",
    "                floor -= 1\n",
    "                x, y = cruise.loc[(cruise.floor.values==floor) & (cruise.desc.values=='계단')].squeeze()[['x','y']]\n",
    "                path += [(floor, x, y)]\n",
    "                \n",
    "        path += get_linear_path(cruise.loc[(cruise.floor.values==floor) & (cruise.desc.values=='계단')].squeeze(),\n",
    "                                endRoom)\n",
    "\n",
    "    return path"
   ]
  },
  {
   "cell_type": "markdown",
   "metadata": {
    "colab_type": "text",
    "id": "hg_y0UVkGpBw"
   },
   "source": [
    "### 승객 이동패턴 정의하기(가장 많은 가정이 필요한 부분)\n",
    "- 승객들이 방문할 수 있는 시설에는\n",
    "1. 1층 기념품, 서비스, 게임센터, 노래방, ICT실, 고객센터, 볼링장, 당구장, 화장실\n",
    "2. 2층 편의점, 카페(2층 투숙객들만 방문)\n",
    "3. 3층 식당(1\\~5), 카페(1\\~4 -> 식사 후 일정 확률)\n",
    "4. 4층 편의점, 카페(2층 투숙객들만 방문)\n",
    "5. 5층 전망대, 사우나, 야외 공연장"
   ]
  },
  {
   "cell_type": "markdown",
   "metadata": {
    "colab_type": "text",
    "id": "zeRCoAENC_nw"
   },
   "source": [
    "### 승객 패턴을 정의하기 위한 가정들\n",
    "1. 각각의 활동을 하는 데 걸리는 시간은 아래와 같다.\n",
    "- 5층: 영화 2시간, 사우나 4시간, 전망대 30분\n",
    "- 3층: 아침 30분, 점심 30분, 저녁 **1시간** \n",
    "- 2,4층: 카페 2시간, 편의점 15분, \n",
    "- 1층: 볼링 1시간, 당구 1시간, 노래방 90분, 카페 2시간, ICT실 2시간, 서비스센터 15분"
   ]
  },
  {
   "cell_type": "markdown",
   "metadata": {
    "colab_type": "text",
    "id": "x1c4Y8ofXN8a"
   },
   "source": [
    "## 오늘 만들어야 할 함수\n"
   ]
  },
  {
   "cell_type": "markdown",
   "metadata": {
    "colab_type": "text",
    "id": "eE2H7Q1gJma8"
   },
   "source": [
    "### (1) 각 장소별 방문 확률 불러오기\n",
    "\n"
   ]
  },
  {
   "cell_type": "code",
   "execution_count": 9,
   "metadata": {
    "colab": {},
    "colab_type": "code",
    "id": "IHNxxxFdJPX3"
   },
   "outputs": [],
   "source": [
    "xls = pd.ExcelFile(probability_excel_path)\n",
    "probability = pd.read_excel(xls, sheet_name=0) #특정 시간대에 어떤 활동을 할 확률\n",
    "frequency = pd.read_excel(xls, sheet_name=1).fillna(value=np.inf) #하루에 어떤 활동을 하는 최대 횟수\n",
    "required_time = pd.read_excel(xls, sheet_name=2) #활동을 하는 데 걸리는 최소, 최대, 기준 시간"
   ]
  },
  {
   "cell_type": "code",
   "execution_count": 10,
   "metadata": {
    "colab": {},
    "colab_type": "code",
    "id": "CbRUEKQ2LbY9"
   },
   "outputs": [],
   "source": [
    "all_behaviors = probability.iloc[:,0].tolist()\n",
    "all_behaviors_and_places = {behavior:behavior for behavior in all_behaviors if behavior not in ['아침', '점심', '저녁']} #활동과 장소 이름이 다른 경우 제외\n",
    "all_behaviors_and_places.update({behavior:'식당' for behavior in ['아침', '점심', '저녁']}) #다시 포함"
   ]
  },
  {
   "cell_type": "code",
   "execution_count": 11,
   "metadata": {
    "colab": {},
    "colab_type": "code",
    "id": "lmgL4fSiMDev"
   },
   "outputs": [],
   "source": [
    "pending_path = {ID+1:[] for ID in range(number_of_passengers)}\n",
    "done_behaviors = {ID+1:[0]*len(all_behaviors) for ID in range(number_of_passengers)}"
   ]
  },
  {
   "cell_type": "markdown",
   "metadata": {
    "colab_type": "text",
    "id": "vQD-DPmdXp-n"
   },
   "source": [
    "### (2) 어디로 갈 지 확률적으로 결정하기\n",
    "1. time_left가 0인 승객을 passengers.loc[] 써서 뽑아낸다.\n",
    "2. 그 승객들 각각에 대해 아래 과정을 반복한다.\n",
    "    * 지금이 몇 시인지 (전역변수 t//3600으로 구함)를 기준으로 각각의 장소로 갈 확률을 구한다.\n",
    "    * 다음 장소를 선택하고, 그 장소에 최대 방문 횟수 체크해서\n",
    "    * 적당히 반복하면 다음 장소를 고를 수 있다.\n",
    "    * 다음 장소가 골라지면, 현재 장소와 다음 장소를 잇는 경로를 만들어서 pending_path\\[ID]에 넣는다.\n",
    "    * 승객의 time_left를 다음 장소의 활동 소요 시간으로 설정한다.\n",
    "    * done_behaviors\\[ID]\\[behavior]에 1을 더한다.\n",
    "\n"
   ]
  },
  {
   "cell_type": "code",
   "execution_count": 12,
   "metadata": {
    "colab": {},
    "colab_type": "code",
    "id": "uRCmH-myYR71"
   },
   "outputs": [],
   "source": [
    "def where_to_move(people=passengers):\n",
    "    hour = round(t//3600)%24\n",
    "    probs = probability.loc[:, hour].tolist() #해당 시간대 모든 활동의 확률 불러오기\n",
    "    all_behaviors_and_probs = {behavior:probs[index] for index, behavior in enumerate(all_behaviors)}\n",
    "    people_to_move = people.loc[people.time_left.values==0, 'ID']\n",
    "\n",
    "    for ID in people_to_move:\n",
    "        available_choices = [[index]*round(all_behaviors_and_probs[behavior]*10000) for index, behavior in enumerate(all_behaviors)]\n",
    "        available_choices = reduce(lambda a,b: a+b, available_choices)\n",
    "\n",
    "        while True:\n",
    "            next_behavior_index = np.random.choice(available_choices) #1개 뽑기\n",
    "            if done_behaviors[ID][next_behavior_index] < frequency.iloc[next_behavior_index, 1]: #해당 활동의 일일 최대횟수를 넘어가면 안 함\n",
    "                break \n",
    "\n",
    "        done_behaviors[ID][next_behavior_index] += 1\n",
    "        next_behavior = all_behaviors[next_behavior_index]\n",
    "        \n",
    "        next_time_min, next_time_max = required_time.iloc[next_behavior_index, [1,2]]\n",
    "        next_time_left = round(np.random.uniform(low=next_time_min, high=next_time_max)*60/dt)*dt #모든 활동은 dt 단위     \n",
    "\n",
    "        homeID, floor, x, y, now_behavior = people.loc[people.ID.values==ID, ['home', 'floor','x','y', 'behavior']].squeeze().tolist()\n",
    "        now_roomID = cruise.loc[(cruise.floor.values==floor) & (cruise.x==x) & (cruise.y==y), 'ID'].squeeze()\n",
    "        \n",
    "\n",
    "        if now_behavior == next_behavior:\n",
    "            will_move = 0\n",
    "        else:\n",
    "            will_move = 1\n",
    "            if next_behavior == '객실':\n",
    "                next_roomID = homeID \n",
    "            else:\n",
    "                next_roomIDs = cruise.loc[cruise.desc.str.contains(all_behaviors_and_places[next_behavior])].ID.to_numpy()\n",
    "                if next_behavior == '카페':\n",
    "                    next_roomIDs = next_roomIDs[next_roomIDs//100!=( {2:4, 4:2}.get(homeID//100) )]\n",
    "                if len(next_roomIDs)==0: print(next_behavior, homeID)\n",
    "                next_roomID = np.random.choice(next_roomIDs)\n",
    "\n",
    "            pending_path[ID] = navigate(now_roomID, next_roomID) \n",
    "        people.loc[people.ID.values==ID, ['behavior', 'is_moving', 'time_left']] = [next_behavior, will_move, next_time_left] \n",
    "    return"
   ]
  },
  {
   "cell_type": "markdown",
   "metadata": {
    "colab_type": "text",
    "id": "0wLp7jB7YJap"
   },
   "source": [
    "### (3) 각 승객 이동시키기\n",
    "1. pending_path\\[ID]가 비어있지 않은 승객을 뽑아낸다.\n",
    "2. 그 각각의 승객에 대해 아래 과정을 수행한다.\n",
    "    * next_floor, next_x, next_y = pending_path\\[ID].pop(0)\n",
    "    * floor, x, y를 위 세 개로 설정"
   ]
  },
  {
   "cell_type": "code",
   "execution_count": 13,
   "metadata": {},
   "outputs": [],
   "source": [
    "def move(people=passengers): #이전 함수는 실행 시간이 느려, 효율적인 itertuples로 바꿈\n",
    "    for person in people.loc[people.is_moving.values==True].itertuples():\n",
    "        ID = person.ID\n",
    "        next_floor, next_x, next_y = pending_path[ID].pop(0)\n",
    "        people.loc[people.ID.values==ID, ['floor', 'x', 'y']] = next_floor, next_x, next_y\n",
    "        if pending_path[ID] == []:\n",
    "            people.loc[people.ID.values==ID, 'is_moving'] = False"
   ]
  },
  {
   "cell_type": "markdown",
   "metadata": {
    "colab_type": "text",
    "id": "a5rJ9ufvYMAU"
   },
   "source": [
    "### (4) 감염자 기준으로 거리 계산하기, 감염되는지 확인하기"
   ]
  },
  {
   "cell_type": "code",
   "execution_count": 14,
   "metadata": {},
   "outputs": [],
   "source": [
    "infection_history = []"
   ]
  },
  {
   "cell_type": "code",
   "execution_count": 15,
   "metadata": {
    "colab": {},
    "colab_type": "code",
    "id": "xWdZdpmVYTmK"
   },
   "outputs": [],
   "source": [
    "def hall_infection(people=passengers):\n",
    "    all_susceptible = people.loc[(people.state.values=='S') & (people.is_moving.values==1), ['ID', 'floor', 'x', 'y']] #움직이는 감염 대상군(dataframe)\n",
    "    all_infected = people.loc[(people.state.str.contains(\"Is|Ia\")) & (people.is_moving.values==1), ['ID', 'floor', 'x', 'y', 'state']] #움직이는 감염자(dataframe)\n",
    "\n",
    "    for infected in all_infected.itertuples(): #각각의 움직이는 감염자에 대해 반복\n",
    "        nearby_susceptible = all_susceptible.loc[(all_susceptible.floor==infected.floor) & (np.linalg.norm((all_susceptible.x.values-infected.x, all_susceptible.y.values-infected.y), axis=0)<radius)]\n",
    "        for ID in nearby_susceptible.ID:\n",
    "            if np.random.rand() < transmissibility[infected.state]:\n",
    "                print(f\"{ID}번 사람이 감염되었습니다.\")\n",
    "                infection_history.append( (infected.ID,ID) )\n",
    "                people.loc[people.ID.values==ID, [\"state\", \"latency\"]] = [\"E\", incubation_period]"
   ]
  },
  {
   "cell_type": "markdown",
   "metadata": {
    "colab_type": "text",
    "id": "ffcySiaj12eb"
   },
   "source": [
    "## 시뮬레이션하기"
   ]
  },
  {
   "cell_type": "code",
   "execution_count": 16,
   "metadata": {
    "colab": {},
    "colab_type": "code",
    "id": "nm56havb12ec"
   },
   "outputs": [],
   "source": [
    "stats = {'hour':[], 'S':[], 'E':[], 'Is':[], 'Ia':[], 'R':[]}\n",
    "\n",
    "def change_state(people=passengers): #각 단계별로 지연 기간(잠복기, 치료 기간)이 끝난 승객들을 다음 상태로 바꿈\n",
    "    #E -> Ia or Is\n",
    "    exposed_to_infected = people.loc[(people.state.values=='E') & (people.latency.values==0), 'ID']\n",
    "    for ID in exposed_to_infected:\n",
    "        if np.random.rand() <= p_asymptomatic: #np.random.rand: [0,1)의 난수 생성\n",
    "            people.loc[people.ID.values==ID, 'state'] = 'Ia'\n",
    "        else:\n",
    "            people.loc[people.ID.values==ID, 'state'] = 'Is'\n",
    "        people.loc[people.ID.values==ID, 'latency'] = infection_period\n",
    "    \n",
    "    # Ia or Is -> R\n",
    "    infected_to_recovered = people.loc[(people.state.str.contains('Is|Ia')) & (people.latency.values==0), 'ID']\n",
    "    people.loc[people.ID.isin(infected_to_recovered), 'state'] = 'R'\n",
    "    people.loc[people.ID.isin(infected_to_recovered), 'latency'] = np.inf\n",
    "    \n",
    "def append_result(t, stats=stats): #매 시간마다 결과값을 리스트에 넣는 함수\n",
    "    counts = passengers.state.value_counts()\n",
    "    stats['hour'].append(t//3600)\n",
    "    for state in ['S','E','Is','Ia','R']:\n",
    "        stats[state].append(counts.get(state, default=0))\n",
    "\n"
   ]
  },
  {
   "cell_type": "code",
   "execution_count": null,
   "metadata": {
    "colab": {
     "base_uri": "https://localhost:8080/",
     "height": 1000
    },
    "colab_type": "code",
    "id": "vvAxJO1eCVDM",
    "outputId": "c8b681b9-8100-4bb3-c928-b5004898ee48"
   },
   "outputs": [],
   "source": [
    "t = 0 #초기 시각\n",
    "t_max = 86400*30 #최대 시뮬레이션 시간(일단 30일)\n",
    "\n",
    "while t <= t_max:\n",
    "    #사람 상태 갱신\n",
    "    change_state()\n",
    "    \n",
    "    #사람 이동\n",
    "    where_to_move()\n",
    "    move()\n",
    "\n",
    "    #접촉감염 여부 검사\n",
    "    hall_infection()\n",
    "\n",
    "    #시간별로 결과 저장\n",
    "    if t%3600==0: append_result(t)\n",
    "    if t%3600==0:\n",
    "        S, E, Is, Ia, R = [stats[state][-1] for state in ['S','E','Is','Ia','R']]\n",
    "        print(f\"Hour {t//3600} ended; S({S}), E({E}), Is({Is}), Ia({Ia}), R({R})\")\n",
    "    \n",
    "    #시간 변화\n",
    "    t += dt\n",
    "    passengers.loc[:, ['time_left','latency']] -= dt\n",
    "    if t%86400==0: done_behaviors = {ID+1:[0]*len(all_behaviors) for ID in range(number_of_passengers)}\n",
    "    \n",
    "stats = pd.DataFrame(stats)    "
   ]
  },
  {
   "cell_type": "markdown",
   "metadata": {
    "colab": {},
    "colab_type": "code",
    "id": "bBkVbsl3kvsw"
   },
   "source": [
    "## 감염자 수 변화 시각화"
   ]
  },
  {
   "cell_type": "code",
   "execution_count": null,
   "metadata": {
    "colab": {
     "base_uri": "https://localhost:8080/",
     "height": 282
    },
    "colab_type": "code",
    "id": "LlJFiKZY12eg",
    "outputId": "9147b426-0034-4fde-84bc-a21a46f57a4a"
   },
   "outputs": [],
   "source": [
    "#SEIR\n",
    "plt.rc('font', family='NanumGothic') # For Windows\n",
    "plt.style.use('fivethirtyeight')\n",
    "\n",
    "plt.plot(stats.hour/24, stats.S/number_of_passengers, c='blue') #감염대상군은 파란색\n",
    "plt.plot(stats.hour/24, stats.E/number_of_passengers, c='yellow') #접촉군은 노란색\n",
    "plt.plot(stats.hour/24, (stats.Ia+stats.Is)/number_of_passengers, c='red') #감염군은 빨간색(무증상, 유증상 합친 수치)\n",
    "plt.plot(stats.hour/24, stats.R/number_of_passengers, c='green') #회복군은 초록색\n",
    "plt.legend(['S','E','I','R']) #범례 표시\n",
    "plt.xlabel('시뮬레이션 시간(일)')\n",
    "plt.ylabel('비율', rotation=0)\n",
    "plt.ylim(0,1)\n",
    "plt.show()"
   ]
  },
  {
   "cell_type": "code",
   "execution_count": null,
   "metadata": {
    "colab": {},
    "colab_type": "code",
    "id": "duZOhLTS12ej",
    "outputId": "364c80cf-7e1c-49bf-e59a-2d59b662a1ec"
   },
   "outputs": [],
   "source": [
    "#SEI2R\n",
    "\n",
    "plt.plot(stats.hour/24, stats.S/number_of_passengers, c='blue') #감염대상군은 파란색\n",
    "plt.plot(stats.hour/24, stats.E/number_of_passengers, c='yellow') #접촉군은 노란색\n",
    "plt.plot(stats.hour/24, stats.Is/number_of_passengers, c='orange')\n",
    "plt.plot(stats.hour/24, stats.Ia/number_of_passengers, c='red') \n",
    "plt.plot(stats.hour/24, stats.R/number_of_passengers, c='green') #회복군은 초록색\n",
    "plt.legend(['S','E','Is','Ia','R']) #범례 표시\n",
    "plt.xlabel('시뮬레이션 시간(일)')\n",
    "plt.ylabel('비율', rotation=0)\n",
    "plt.ylim(0,1)\n",
    "plt.show()"
   ]
  }
 ],
 "metadata": {
  "colab": {
   "collapsed_sections": [],
   "name": "test-research.ipynb",
   "provenance": []
  },
  "kernelspec": {
   "display_name": "Python 3",
   "language": "python",
   "name": "python3"
  },
  "language_info": {
   "codemirror_mode": {
    "name": "ipython",
    "version": 3
   },
   "file_extension": ".py",
   "mimetype": "text/x-python",
   "name": "python",
   "nbconvert_exporter": "python",
   "pygments_lexer": "ipython3",
   "version": "3.7.4"
  }
 },
 "nbformat": 4,
 "nbformat_minor": 4
}
